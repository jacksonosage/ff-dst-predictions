{
 "cells": [
  {
   "cell_type": "markdown",
   "metadata": {},
   "source": [
    "# D/ST Rankings\n",
    "In standard fantasy football leagues, Defense/Special Teams (D/ST) scoring is primarily impacted by the following statistical categories:\n",
    "\n",
    "- Points Allowed\n",
    "- Yards Allowed\n",
    "- Sacks\n",
    "- Interceptions\n",
    "- Fumble Recoveries\n",
    "\n",
    "In this notebook I explore ways to automatically scrape historical data for the statistics above in an effort to predict defensive preformance in a given week. "
   ]
  },
  {
   "cell_type": "code",
   "execution_count": 1,
   "metadata": {},
   "outputs": [],
   "source": [
    "import requests\n",
    "from bs4 import BeautifulSoup\n",
    "from Levenshtein import distance\n",
    "from data.team_abbreviations import team_abbreviations\n",
    "from scipy.stats import poisson, t\n",
    "import numpy as np"
   ]
  },
  {
   "cell_type": "code",
   "execution_count": 2,
   "metadata": {},
   "outputs": [],
   "source": [
    "from collections import OrderedDict\n",
    "from operator import itemgetter   "
   ]
  },
  {
   "cell_type": "markdown",
   "metadata": {},
   "source": [
    "## Model Variables"
   ]
  },
  {
   "cell_type": "code",
   "execution_count": 3,
   "metadata": {},
   "outputs": [],
   "source": [
    "# NFL week number\n",
    "week_number = 5\n",
    "\n",
    "# Home team advantage for predicted sacks\n",
    "home_sack_adv = 1.1\n",
    "\n",
    "# QB weight for predicted interceptions\n",
    "qb_weight = 2\n",
    "\n",
    "# Fumble recovery/game rate (assume constant)\n",
    "fumble_rate = 0.6"
   ]
  },
  {
   "cell_type": "markdown",
   "metadata": {},
   "source": [
    "## Scrape Data"
   ]
  },
  {
   "cell_type": "markdown",
   "metadata": {},
   "source": [
    "### Game Schedule"
   ]
  },
  {
   "cell_type": "code",
   "execution_count": 4,
   "metadata": {},
   "outputs": [],
   "source": [
    "nfl_schedule_url = \"http://www.nfl.com/schedules/2018/REG{0}\"\n",
    "r = requests.get(nfl_schedule_url.format(week_number))\n",
    "soup = BeautifulSoup(r.content,'html.parser')"
   ]
  },
  {
   "cell_type": "code",
   "execution_count": 5,
   "metadata": {},
   "outputs": [],
   "source": [
    "games = []\n",
    "for game in soup.find_all('div',class_='list-matchup-row-team')[1:]:\n",
    "    away = game.find('span', class_='team-name away ').text\n",
    "    home = game.find('span', class_='team-name home ').text\n",
    "    games.append({'home': home, 'away':away})"
   ]
  },
  {
   "cell_type": "code",
   "execution_count": 6,
   "metadata": {},
   "outputs": [],
   "source": [
    "def matchup_exists(teams):\n",
    "    for game in games:\n",
    "        if teams[0] == game['home'] or teams[0] == game['away']:\n",
    "            if teams[1] == game['home'] or teams[1] == game['away']:\n",
    "                return True\n",
    "            else:\n",
    "                return False"
   ]
  },
  {
   "cell_type": "code",
   "execution_count": 7,
   "metadata": {},
   "outputs": [
    {
     "data": {
      "text/plain": [
       "[{'home': 'Patriots', 'away': 'Colts'},\n",
       " {'home': 'Bills', 'away': 'Titans'},\n",
       " {'home': 'Steelers', 'away': 'Falcons'},\n",
       " {'home': 'Jets', 'away': 'Broncos'},\n",
       " {'home': 'Chiefs', 'away': 'Jaguars'},\n",
       " {'home': 'Lions', 'away': 'Packers'},\n",
       " {'home': 'Browns', 'away': 'Ravens'},\n",
       " {'home': 'Panthers', 'away': 'Giants'},\n",
       " {'home': 'Bengals', 'away': 'Dolphins'},\n",
       " {'home': 'Chargers', 'away': 'Raiders'},\n",
       " {'home': '49ers', 'away': 'Cardinals'},\n",
       " {'home': 'Eagles', 'away': 'Vikings'},\n",
       " {'home': 'Seahawks', 'away': 'Rams'},\n",
       " {'home': 'Texans', 'away': 'Cowboys'},\n",
       " {'home': 'Saints', 'away': 'Redskins'}]"
      ]
     },
     "execution_count": 7,
     "metadata": {},
     "output_type": "execute_result"
    }
   ],
   "source": [
    "games"
   ]
  },
  {
   "cell_type": "markdown",
   "metadata": {},
   "source": [
    "### Vegas Scoring Predictions"
   ]
  },
  {
   "cell_type": "code",
   "execution_count": 8,
   "metadata": {},
   "outputs": [],
   "source": [
    "espn_lines_url = \"http://www.espn.com/nfl/lines\"\n",
    "r = requests.get(espn_lines_url)\n",
    "soup = BeautifulSoup(r.content,'html.parser')"
   ]
  },
  {
   "cell_type": "code",
   "execution_count": 9,
   "metadata": {},
   "outputs": [],
   "source": [
    "sportsline_link = \"https://www.sportsline.com/nfl/picksheet/\"\n",
    "r = requests.get(sportsline_link)\n",
    "soup = BeautifulSoup(r.content,'html.parser')"
   ]
  },
  {
   "cell_type": "code",
   "execution_count": 10,
   "metadata": {},
   "outputs": [],
   "source": [
    "pred_dst_pa = {}\n",
    "for row in soup.find_all('a',class_='row data-row'):\n",
    "    away_abrv = row.find('div', {'itemprop': 'awayTeam'}).text.lower().replace('\\n','').replace(' ','')\n",
    "    home_abrv = (row.find('span', {'itemprop': 'homeTeam'}).text.lower().replace(' ',''))\n",
    "    away_team = team_abbreviations[away_abrv]\n",
    "    home_team = team_abbreviations[home_abrv]\n",
    "    if matchup_exists([away_team, home_team]):\n",
    "        try:\n",
    "            over_under_text = row.find('div', class_='col two').find('div', class_='top').text\n",
    "            over_under = float(over_under_text.split('/U ')[1].replace('\\n',''))\n",
    "            if 'PK' in row.find('div', class_='col two').find('div', class_='bottom').text:\n",
    "                home_adv = 0\n",
    "                away_adv = 0\n",
    "            else:\n",
    "                home_adv = float(row.find('div', class_='col two').find('div', class_='bottom').text)\n",
    "            pred_dst_pa[home_team] = (over_under + home_adv)/2\n",
    "            pred_dst_pa[away_team] = (over_under - home_adv)/2\n",
    "\n",
    "        except:\n",
    "#             print(away_team, home_team,' ----- Odds not availible')\n",
    "            pass"
   ]
  },
  {
   "cell_type": "code",
   "execution_count": 11,
   "metadata": {},
   "outputs": [],
   "source": [
    "# pred_dst_pa['Titans'] = 21.1\n",
    "# pred_dst_pa['Texans'] = 21.0"
   ]
  },
  {
   "cell_type": "markdown",
   "metadata": {},
   "source": [
    "### Yards Allowed"
   ]
  },
  {
   "cell_type": "markdown",
   "metadata": {},
   "source": [
    "#### Game-by-game"
   ]
  },
  {
   "cell_type": "code",
   "execution_count": 12,
   "metadata": {},
   "outputs": [],
   "source": [
    "teams = []\n",
    "for abrv, team in team_abbreviations.items():\n",
    "    if team not in teams:\n",
    "        teams.append(team)"
   ]
  },
  {
   "cell_type": "code",
   "execution_count": 13,
   "metadata": {},
   "outputs": [],
   "source": [
    "pfr_gameyds_link = \"https://www.pro-football-reference.com/play-index/tgl_finder.cgi?request=1&match=game&year_min=2017&year_max=2018&game_type=R&game_num_min=0&game_num_max=99&week_num_min=0&week_num_max=99&temperature_gtlt=lt&c5val=1.0&order_by=tot_yds&offset={0}\""
   ]
  },
  {
   "cell_type": "code",
   "execution_count": 14,
   "metadata": {},
   "outputs": [],
   "source": [
    "yd_history = {'def': {t:[] for t in teams},\n",
    "            'off': {t:[] for t in teams}}\n",
    "\n",
    "starting_offset = 0\n",
    "while True:\n",
    "    r = requests.get(pfr_gameyds_link.format(starting_offset))\n",
    "    soup = BeautifulSoup(r.content, 'html.parser')\n",
    "    if soup.find('table') == None:\n",
    "        break\n",
    "    else:\n",
    "        for row in soup.find('table').find_all('tr')[2:]:\n",
    "            try:\n",
    "                off_abr = row.find('td', {'data-stat': 'team'}).text.lower()\n",
    "                off_name = team_abbreviations[off_abr]\n",
    "                def_abr = row.find('td', {'data-stat': 'opp'}).text.lower()\n",
    "                def_name = team_abbreviations[def_abr]\n",
    "                yds = int(row.find('td', {'data-stat': 'tot_yds'}).text)\n",
    "                yd_history['off'][off_name].append(yds)\n",
    "                yd_history['def'][def_name].append(yds)\n",
    "            except:\n",
    "                pass\n",
    "    starting_offset+=100"
   ]
  },
  {
   "cell_type": "code",
   "execution_count": 15,
   "metadata": {},
   "outputs": [],
   "source": [
    "yd_avgs = {off_def: {team: np.average(yds) for (team, yds) in yd_history[off_def].items()} for (off_def, game_yds) in yd_history.items()}"
   ]
  },
  {
   "cell_type": "code",
   "execution_count": 16,
   "metadata": {},
   "outputs": [],
   "source": [
    "yd_stds = {off_def: {team: np.std(yds) for (team, yds) in yd_history[off_def].items()} for (off_def, game_yds) in yd_history.items()}"
   ]
  },
  {
   "cell_type": "code",
   "execution_count": 17,
   "metadata": {},
   "outputs": [],
   "source": [
    "yd_stds = {off_def: {team: np.size(yds) for (team, yds) in yd_history[off_def].items()} for (off_def, game_yds) in yd_history.items()}"
   ]
  },
  {
   "cell_type": "code",
   "execution_count": 18,
   "metadata": {},
   "outputs": [],
   "source": [
    "pred_dst_yds_avg = {}\n",
    "pred_dst_yds_std = {}\n",
    "\n",
    "for game in games:\n",
    "    home = game['home']\n",
    "    away = game['away']\n",
    "    pred_dst_yds_avg[home] = (yd_avgs['def'][home] + yd_avgs['off'][away])/2\n",
    "    pred_dst_yds_avg[away] = (yd_avgs['def'][away] + yd_avgs['off'][home])/2\n",
    "    pred_dst_yds_std[home] = (yd_stds['def'][home] + yd_stds['off'][away])/2\n",
    "    pred_dst_yds_std[away] = (yd_stds['def'][away] + yd_stds['off'][home])/2"
   ]
  },
  {
   "cell_type": "markdown",
   "metadata": {},
   "source": [
    "### Sacks"
   ]
  },
  {
   "cell_type": "code",
   "execution_count": 19,
   "metadata": {},
   "outputs": [],
   "source": [
    "pfr_sack_links = {'def': \"https://www.pro-football-reference.com/years/2017/opp.htm\",\n",
    "                 'off': \"https://www.pro-football-reference.com/years/2017/index.htm\"}"
   ]
  },
  {
   "cell_type": "code",
   "execution_count": 20,
   "metadata": {},
   "outputs": [],
   "source": [
    "sack_avgs = {'def': {},\n",
    "            'off': {}}\n",
    "\n",
    "for def_or_off, link in pfr_sack_links.items():\n",
    "    r = requests.get(link)\n",
    "    soup = BeautifulSoup(r.content,'html.parser')\n",
    "    temp_soup = str(soup.find('div',{'id':'all_passing'})).split('<!--\\n')[1].split('\\n-->')[0]\n",
    "    soup = BeautifulSoup(temp_soup,'html.parser')\n",
    "    \n",
    "    for team_row in soup.find_all('tr')[1:-3]:\n",
    "        team_name = team_row.find('td', {'data-stat':'team'}).text.split(' ')[-1]\n",
    "        team_sacks = int(team_row.find('td', {'data-stat':'pass_sacked'}).text)\n",
    "        num_games = int(team_row.find('td', {'data-stat':'g'}).text)\n",
    "        avg_sacks = team_sacks/num_games\n",
    "        sack_avgs[def_or_off][team_name] = avg_sacks"
   ]
  },
  {
   "cell_type": "code",
   "execution_count": 21,
   "metadata": {},
   "outputs": [],
   "source": [
    "pred_dst_sacks = {}\n",
    "for game in games:\n",
    "    home = game['home']\n",
    "    away = game['away']\n",
    "    pred_dst_sacks[home] = (home_sack_adv*sack_avgs['def'][home] + sack_avgs['off'][away])/(home_sack_adv + 1)\n",
    "    pred_dst_sacks[away] = (sack_avgs['def'][away] + home_sack_adv*sack_avgs['off'][home])/(home_sack_adv + 1)"
   ]
  },
  {
   "cell_type": "markdown",
   "metadata": {},
   "source": [
    "### Interceptions"
   ]
  },
  {
   "cell_type": "markdown",
   "metadata": {},
   "source": [
    "#### Defensive interceptions"
   ]
  },
  {
   "cell_type": "code",
   "execution_count": 22,
   "metadata": {},
   "outputs": [],
   "source": [
    "pfr_int_link = \"https://www.pro-football-reference.com/years/2017/opp.htm\"\n",
    "r = requests.get(pfr_int_link)\n",
    "soup = BeautifulSoup(r.content,'html.parser')\n",
    "temp_soup = str(soup.find('div',{'id':'all_passing'})).split('<!--\\n')[1].split('\\n-->')[0]\n",
    "soup = BeautifulSoup(temp_soup,'html.parser')"
   ]
  },
  {
   "cell_type": "code",
   "execution_count": 23,
   "metadata": {},
   "outputs": [],
   "source": [
    "dst_int_rates = {}\n",
    "for team_row in soup.find_all('tr')[1:-3]:\n",
    "    team_name = team_row.find('td', {'data-stat':'team'}).text.split(' ')[-1]\n",
    "    team_int = int(team_row.find('td', {'data-stat':'pass_int'}).text)\n",
    "    num_games = int(team_row.find('td', {'data-stat':'g'}).text)\n",
    "    avg_int = team_int/num_games\n",
    "    dst_int_rates[team_name] = avg_int"
   ]
  },
  {
   "cell_type": "markdown",
   "metadata": {},
   "source": [
    "#### Starting QBs"
   ]
  },
  {
   "cell_type": "code",
   "execution_count": 24,
   "metadata": {},
   "outputs": [],
   "source": [
    "starting_qb_link = \"http://www.ourlads.com/nfldepthcharts/depthchartpos/QB\"\n",
    "r = requests.get(starting_qb_link)\n",
    "soup = BeautifulSoup(r.content,'html.parser')"
   ]
  },
  {
   "cell_type": "code",
   "execution_count": 25,
   "metadata": {
    "scrolled": false
   },
   "outputs": [],
   "source": [
    "starting_qbs = {}\n",
    "for qb_row in soup.find('table').find_all('tr')[3:]:\n",
    "    if qb_row.get('class')[0] in ['row-dc-wht', 'row-dc-grey']:\n",
    "        team_abr = qb_row.find('img').get('src').split('thumb_')[1].split('.')[0].lower()\n",
    "        team = team_abbreviations[team_abr]\n",
    "        qb_name_list = qb_row.find_all('td')[3].text.replace(',','').lower().split(' ')[:-1]\n",
    "        qb_name_list.reverse()\n",
    "        starting_qbs[team] = ' '.join([name.capitalize() for name in qb_name_list])"
   ]
  },
  {
   "cell_type": "markdown",
   "metadata": {},
   "source": [
    "#### Scrape QB ints"
   ]
  },
  {
   "cell_type": "code",
   "execution_count": 26,
   "metadata": {},
   "outputs": [],
   "source": [
    "qb_int_link = \"https://www.pro-football-reference.com/play-index/psl_finder.cgi?request=1&match=combined&year_min=2010&year_max=2018&season_start=1&season_end=-1&is_active=Y&pos%5B%5D=qb&draft_year_min=1936&draft_year_max=2018&draft_slot_min=1&draft_slot_max=500&draft_pick_in_round=pick_overall&conference=any&draft_pos%5B%5D=qb&draft_pos%5B%5D=rb&draft_pos%5B%5D=wr&draft_pos%5B%5D=te&draft_pos%5B%5D=e&draft_pos%5B%5D=t&draft_pos%5B%5D=g&draft_pos%5B%5D=c&draft_pos%5B%5D=ol&draft_pos%5B%5D=dt&draft_pos%5B%5D=de&draft_pos%5B%5D=dl&draft_pos%5B%5D=ilb&draft_pos%5B%5D=olb&draft_pos%5B%5D=lb&draft_pos%5B%5D=cb&draft_pos%5B%5D=s&draft_pos%5B%5D=db&draft_pos%5B%5D=k&draft_pos%5B%5D=p&c5val=1.0&order_by=pass_int\"\n",
    "r = requests.get(qb_int_link)\n",
    "soup = BeautifulSoup(r.content,'html.parser')"
   ]
  },
  {
   "cell_type": "code",
   "execution_count": 27,
   "metadata": {},
   "outputs": [],
   "source": [
    "qb_int_rates = {}\n",
    "for row in soup.find('table').find_all('tr')[2:]:\n",
    "    try:\n",
    "        qb_name = row.find_all('td')[0].text\n",
    "        qb_ints = int(row.find_all('td')[13].text)\n",
    "        qb_games = int(row.find_all('td')[6].text)\n",
    "        if qb_games > 5:\n",
    "            qb_int_rates[qb_name] = qb_ints/qb_games\n",
    "    except:\n",
    "        pass  "
   ]
  },
  {
   "cell_type": "code",
   "execution_count": 28,
   "metadata": {},
   "outputs": [],
   "source": [
    "off_int_rates = {}\n",
    "for team, qb_name in starting_qbs.items():\n",
    "    closest_match = None\n",
    "    for temp_name, int_rate in qb_int_rates.items():\n",
    "        dist = distance(qb_name, temp_name)\n",
    "        if dist == 0:\n",
    "            off_int_rates[team] = qb_int_rates[qb_name]\n",
    "\n",
    "            break\n",
    "        elif closest_match == None or dist < closest_match[1]:\n",
    "            closest_match = [temp_name, dist]\n",
    "    \n",
    "    if team not in off_int_rates.keys():\n",
    "        if closest_match[1] <= 3:\n",
    "            off_int_rates[team] = qb_int_rates[closest_match[0]]"
   ]
  },
  {
   "cell_type": "code",
   "execution_count": 29,
   "metadata": {},
   "outputs": [],
   "source": [
    "pred_dst_ints = {}\n",
    "for game in games:\n",
    "    home = game['home']\n",
    "    away = game['away']\n",
    "    \n",
    "    if away in off_int_rates.keys():\n",
    "        pred_dst_ints[home] = (dst_int_rates[home] + qb_weight*off_int_rates[away])/(1 + qb_weight)\n",
    "    else:\n",
    "        pred_dst_ints[home] = dst_int_rates[home]\n",
    "        \n",
    "    if home in off_int_rates.keys():\n",
    "        pred_dst_ints[away] = (dst_int_rates[away] + qb_weight*off_int_rates[home])/(1 + qb_weight)\n",
    "    else:\n",
    "        pred_dst_ints[away] = dst_int_rates[away]"
   ]
  },
  {
   "cell_type": "markdown",
   "metadata": {},
   "source": [
    "## Convert from predicted statistics to fantasy points"
   ]
  },
  {
   "cell_type": "code",
   "execution_count": 30,
   "metadata": {},
   "outputs": [],
   "source": [
    "pred_ffpts = {team:0 for team in pred_dst_pa.keys()}"
   ]
  },
  {
   "cell_type": "markdown",
   "metadata": {},
   "source": [
    "### Points Against"
   ]
  },
  {
   "cell_type": "code",
   "execution_count": 31,
   "metadata": {},
   "outputs": [],
   "source": [
    "for team, pa in pred_dst_pa.items():\n",
    "    pt_scoring_intervals = [0, 6, 13, 17, 27, 34, 45]\n",
    "    pt_scoring = [5, 4, 3, 1, 0, -1, -3, -5]\n",
    "    cdf = poisson.cdf(pt_scoring_intervals, mu=pa)\n",
    "    pt_probs = []\n",
    "\n",
    "    for i in range(0, len(pt_scoring_intervals)):\n",
    "        if i == 0:\n",
    "            pt_probs.append(cdf[i])\n",
    "        else:\n",
    "            pt_probs.append(cdf[i]-cdf[i-1])\n",
    "    pt_probs.append(1 - cdf[len(cdf)-1])\n",
    "    \n",
    "    pred_score_pts = 0\n",
    "    for i in range(0, len(pt_probs)):\n",
    "        pred_score_pts += pt_probs[i]*pt_scoring[i]\n",
    "    pred_ffpts[team] += pred_score_pts"
   ]
  },
  {
   "cell_type": "markdown",
   "metadata": {},
   "source": [
    "### Yards Allowed"
   ]
  },
  {
   "cell_type": "code",
   "execution_count": 32,
   "metadata": {},
   "outputs": [],
   "source": [
    "for team, yd_avg in pred_dst_yds_avg.items():\n",
    "    yd_std = pred_dst_yds_std[team]\n",
    "    yd_scoring_intervals = [99, 199, 299, 349, 399, 449, 499, 549]\n",
    "    yd_scoring = [5, 3, 2, 0, -1, -3, -5, -6, -7]\n",
    "    cdf = t.cdf(yd_scoring_intervals, loc=yd_avg, scale=yd_std, df=17)\n",
    "    yd_probs = []\n",
    "\n",
    "    for i in range(0, len(yd_scoring_intervals)):\n",
    "        if i == 0:\n",
    "            yd_probs.append(cdf[i])\n",
    "        else:\n",
    "            yd_probs.append(cdf[i]-cdf[i-1])\n",
    "    yd_probs.append(1 - cdf[len(cdf)-1])\n",
    "    \n",
    "    pred_yd_pts = 0\n",
    "    for i in range(0, len(yd_probs)):\n",
    "        pred_yd_pts += yd_probs[i]*yd_scoring[i]\n",
    "    pred_ffpts[team] += pred_yd_pts"
   ]
  },
  {
   "cell_type": "markdown",
   "metadata": {},
   "source": [
    "### Sacks"
   ]
  },
  {
   "cell_type": "code",
   "execution_count": 33,
   "metadata": {},
   "outputs": [],
   "source": [
    "for team, sacks in pred_dst_sacks.items():\n",
    "    pred_ffpts[team] += 1 * pred_dst_sacks[team]"
   ]
  },
  {
   "cell_type": "markdown",
   "metadata": {},
   "source": [
    "### Interceptions"
   ]
  },
  {
   "cell_type": "code",
   "execution_count": 34,
   "metadata": {},
   "outputs": [],
   "source": [
    "for team, ints in pred_dst_ints.items():\n",
    "    pred_ffpts[team] += 2 * pred_dst_ints[team]"
   ]
  },
  {
   "cell_type": "markdown",
   "metadata": {},
   "source": [
    "### Fumble Recoveries\n",
    "Fumbles are a very random occurance and are difficult to predict. I will assume that all teams will lose fumbles at roughly the average rate across the league (0.6 lost fumbles/game)"
   ]
  },
  {
   "cell_type": "code",
   "execution_count": 35,
   "metadata": {},
   "outputs": [],
   "source": [
    "for team, pts in pred_ffpts.items():\n",
    "    pred_ffpts[team] += 2 * fumble_rate"
   ]
  },
  {
   "cell_type": "markdown",
   "metadata": {},
   "source": [
    "## Ranking"
   ]
  },
  {
   "cell_type": "code",
   "execution_count": 36,
   "metadata": {
    "scrolled": false
   },
   "outputs": [
    {
     "data": {
      "text/plain": [
       "OrderedDict([('Ravens', 7.18905833530289),\n",
       "             ('Titans', 6.848851877588678),\n",
       "             ('Panthers', 6.542944387007517),\n",
       "             ('Patriots', 6.27259421982103),\n",
       "             ('Jaguars', 6.163051351505042),\n",
       "             ('Broncos', 5.891583601158774),\n",
       "             ('Cowboys', 5.801426302692557),\n",
       "             ('49ers', 5.747069375664649),\n",
       "             ('Rams', 5.6173512233157785),\n",
       "             ('Cardinals', 5.283366527450448),\n",
       "             ('Bengals', 5.252287006973084),\n",
       "             ('Eagles', 5.219682276458696),\n",
       "             ('Bills', 5.006700576726671),\n",
       "             ('Jets', 4.972795227136481),\n",
       "             ('Saints', 4.911750645754587),\n",
       "             ('Vikings', 4.805482005837138),\n",
       "             ('Lions', 4.749975187733019),\n",
       "             ('Packers', 4.723003226566771),\n",
       "             ('Chargers', 4.567348915969121),\n",
       "             ('Dolphins', 4.3364141193198735),\n",
       "             ('Steelers', 4.27291721596265),\n",
       "             ('Texans', 4.2500828419635),\n",
       "             ('Browns', 4.152886244982219),\n",
       "             ('Giants', 3.896470066061106),\n",
       "             ('Chiefs', 3.752589509786696),\n",
       "             ('Seahawks', 3.2522847458270547),\n",
       "             ('Redskins', 3.063147104882087),\n",
       "             ('Falcons', 2.7145961110821637),\n",
       "             ('Raiders', 2.1369558425106154),\n",
       "             ('Colts', 1.93132512702767)])"
      ]
     },
     "execution_count": 36,
     "metadata": {},
     "output_type": "execute_result"
    }
   ],
   "source": [
    "OrderedDict(sorted(pred_ffpts.items(), key=itemgetter(1), reverse=True))"
   ]
  }
 ],
 "metadata": {
  "kernelspec": {
   "display_name": "Python [conda env:ff_dst]",
   "language": "python",
   "name": "conda-env-ff_dst-py"
  },
  "language_info": {
   "codemirror_mode": {
    "name": "ipython",
    "version": 3
   },
   "file_extension": ".py",
   "mimetype": "text/x-python",
   "name": "python",
   "nbconvert_exporter": "python",
   "pygments_lexer": "ipython3",
   "version": "3.7.0"
  },
  "toc": {
   "base_numbering": 1,
   "nav_menu": {},
   "number_sections": false,
   "sideBar": true,
   "skip_h1_title": true,
   "title_cell": "Table of Contents",
   "title_sidebar": "Contents",
   "toc_cell": false,
   "toc_position": {
    "height": "calc(100% - 180px)",
    "left": "10px",
    "top": "150px",
    "width": "165px"
   },
   "toc_section_display": true,
   "toc_window_display": true
  },
  "varInspector": {
   "cols": {
    "lenName": 16,
    "lenType": 16,
    "lenVar": 40
   },
   "kernels_config": {
    "python": {
     "delete_cmd_postfix": "",
     "delete_cmd_prefix": "del ",
     "library": "var_list.py",
     "varRefreshCmd": "print(var_dic_list())"
    },
    "r": {
     "delete_cmd_postfix": ") ",
     "delete_cmd_prefix": "rm(",
     "library": "var_list.r",
     "varRefreshCmd": "cat(var_dic_list()) "
    }
   },
   "types_to_exclude": [
    "module",
    "function",
    "builtin_function_or_method",
    "instance",
    "_Feature"
   ],
   "window_display": false
  }
 },
 "nbformat": 4,
 "nbformat_minor": 2
}
